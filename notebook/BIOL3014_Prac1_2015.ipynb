{
 "cells": [
  {
   "cell_type": "markdown",
   "metadata": {},
   "source": [
    "Created by Mitchell Stanton-Cook (m.stantoncook@uq.edu.au)"
   ]
  },
  {
   "cell_type": "markdown",
   "metadata": {},
   "source": [
    "# BIOL3014/BINF700 Practical 1\n",
    "\n",
    "## Python programming\n",
    "---\n",
    "\n",
    "* **Due:** 11AM 05/08/2015\n",
    "* **Revision:** 1\n",
    "* **Marks:** \n",
    "    * **BIOL3014** - 8 marks. \n",
    "    * **BINF7000** - 12 marks.\n",
    "---\n",
    "\n",
    "\n",
    "### Objectives \n",
    "\n",
    "This practical familiarises you with the key elements of the python programming language. Both understanding and writing python code is fundamental for understanding BIOL3014/BINF7000 practicals/workshops, projects and lectures.\n",
    "\n",
    "In this practical:\n",
    "* We review the fundementals of python programming\n",
    "* introduce a set of python libraries (refered to as **uqbinfpy**)developed for this course \n",
    "---\n",
    "\n",
    "\n",
    "### Submission requirements\n",
    "\n",
    "Please export this IPython (with written answers & completed code) to `STUDENTNUMBER_P1.ipynb` notebook and submit it via the BlackBoard portal. \n",
    "\n",
    "![alt text](export_workbook.png \"Exporting your workbook\")\n",
    "----\n",
    "\n",
    "\n",
    "### Resources\n",
    "\n",
    "#### Python resources:\n",
    "* The UQ Bioinformatics Python guide (on Blackboard)\n",
    "* The [python 2 documentation]. For those unfamiliar with Python the [offical tutorial] is recomended.\n",
    "* The software carpentry [novice python lessons]\n",
    "\n",
    "[python 2 documentation]: https://docs.python.org/2/\n",
    "[offical tutorial]: https://docs.python.org/2/tutorial/index.html\n",
    "[novice python lessons]: http://swcarpentry.github.io/python-novice-inflammation/\n",
    "\n",
    "#### Other:\n",
    "* [Markdown cheatsheet]\n",
    "\n",
    "[Markdown cheatsheet]: https://github.com/adam-p/markdown-here/wiki/Markdown-Here-Cheatsheet#links\n"
   ]
  },
  {
   "cell_type": "markdown",
   "metadata": {},
   "source": [
    "## Variables and simple data types\n",
    "\n",
    "A variable is the equivalent of a box in which you could put stuff in. The stuff can have different\n",
    "types, such as integer, float, string or other class objects. A variable can have any name (except the\n",
    "ones already used by python keywords), and in this document the variable will always start with\n",
    "\"my\" to help you differentiate them from keywords (e.g. myvar, myfile, mywhatever)."
   ]
  },
  {
   "cell_type": "markdown",
   "metadata": {},
   "source": [
    "### Integers"
   ]
  },
  {
   "cell_type": "code",
   "execution_count": 209,
   "metadata": {
    "collapsed": false
   },
   "outputs": [
    {
     "name": "stdout",
     "output_type": "stream",
     "text": [
      "<type 'int'>\n",
      "12\n"
     ]
    }
   ],
   "source": [
    "myvar = 12\n",
    "print type(myvar)\n",
    "print myvar"
   ]
  },
  {
   "cell_type": "markdown",
   "metadata": {},
   "source": [
    "### Floats"
   ]
  },
  {
   "cell_type": "code",
   "execution_count": 210,
   "metadata": {
    "collapsed": false
   },
   "outputs": [
    {
     "name": "stdout",
     "output_type": "stream",
     "text": [
      "<type 'float'>\n",
      "12.2\n"
     ]
    }
   ],
   "source": [
    "myvar = 12.2\n",
    "print type(myvar)\n",
    "print myvar"
   ]
  },
  {
   "cell_type": "markdown",
   "metadata": {},
   "source": [
    "### Strings"
   ]
  },
  {
   "cell_type": "code",
   "execution_count": 211,
   "metadata": {
    "collapsed": false
   },
   "outputs": [
    {
     "name": "stdout",
     "output_type": "stream",
     "text": [
      "<type 'str'>\n",
      "12\n"
     ]
    }
   ],
   "source": [
    "myvar = \"12\"\n",
    "print type(myvar)\n",
    "print myvar"
   ]
  },
  {
   "cell_type": "markdown",
   "metadata": {},
   "source": [
    "### Take aways\n",
    "\n",
    " * Strings are defined explicitly by surrounding the text between double or single quotes. \n",
    "    * Why are there these two options?\n",
    " * \"12\" is not equal to 12. \"12\" is the concatenation of the characters \"1\" and \"2\", while 12 is an integer type."
   ]
  },
  {
   "cell_type": "code",
   "execution_count": 212,
   "metadata": {
    "collapsed": false
   },
   "outputs": [
    {
     "data": {
      "text/plain": [
       "False"
      ]
     },
     "execution_count": 212,
     "metadata": {},
     "output_type": "execute_result"
    }
   ],
   "source": [
    "\"12\"  == 12"
   ]
  },
  {
   "cell_type": "markdown",
   "metadata": {},
   "source": [
    " * 11 is not 11.0. What is happening here?"
   ]
  },
  {
   "cell_type": "code",
   "execution_count": 213,
   "metadata": {
    "collapsed": false
   },
   "outputs": [
    {
     "name": "stdout",
     "output_type": "stream",
     "text": [
      "5\n",
      "5.5\n"
     ]
    }
   ],
   "source": [
    "print 11/2\n",
    "print 11.0/2"
   ]
  },
  {
   "cell_type": "markdown",
   "metadata": {},
   "source": [
    "* you can convert types from one to another using. Examples:"
   ]
  },
  {
   "cell_type": "code",
   "execution_count": 214,
   "metadata": {
    "collapsed": false
   },
   "outputs": [
    {
     "name": "stdout",
     "output_type": "stream",
     "text": [
      "<type 'int'> 12\n",
      "<type 'float'> 12.0\n",
      "<type 'float'> 11.0\n"
     ]
    }
   ],
   "source": [
    "print type(int(\"12\")), int(\"12\")\n",
    "print type(float(\"12\")), float(\"12\")\n",
    "print type(float(11)), float(11)"
   ]
  },
  {
   "cell_type": "markdown",
   "metadata": {},
   "source": [
    "## Working with variables and simple data types"
   ]
  },
  {
   "cell_type": "markdown",
   "metadata": {},
   "source": [
    "**Incrementing variables**.\n",
    "\n",
    "Notice how to add and multiply the content of a variable and store the result in the same variable:"
   ]
  },
  {
   "cell_type": "code",
   "execution_count": 215,
   "metadata": {
    "collapsed": false
   },
   "outputs": [
    {
     "name": "stdout",
     "output_type": "stream",
     "text": [
      "13\n",
      "14\n"
     ]
    }
   ],
   "source": [
    "myvar = 12\n",
    "myvar = myvar + 1\n",
    "print myvar\n",
    "\n",
    "# Use '#' for comments.\n",
    "# Shorthand notation\n",
    "myvar += 1\n",
    "print myvar"
   ]
  },
  {
   "cell_type": "code",
   "execution_count": 216,
   "metadata": {
    "collapsed": false
   },
   "outputs": [
    {
     "name": "stdout",
     "output_type": "stream",
     "text": [
      "28\n",
      "56\n"
     ]
    }
   ],
   "source": [
    "myvar = 14\n",
    "myvar = myvar * 2\n",
    "print myvar\n",
    "\n",
    "myvar *= 2\n",
    "print myvar"
   ]
  },
  {
   "cell_type": "markdown",
   "metadata": {},
   "source": [
    "**String methods and getting help.**\n",
    "\n",
    "Strings have a range of useful predefined functions:"
   ]
  },
  {
   "cell_type": "code",
   "execution_count": 217,
   "metadata": {
    "collapsed": false
   },
   "outputs": [],
   "source": [
    "# Define a variable containing a short (DNA) string\n",
    "dna = \"ATCGTTTTCGATC\""
   ]
  },
  {
   "cell_type": "code",
   "execution_count": 218,
   "metadata": {
    "collapsed": false
   },
   "outputs": [
    {
     "name": "stdout",
     "output_type": "stream",
     "text": [
      "2\n"
     ]
    }
   ],
   "source": [
    "# Count the occurences of character A in the (DNA) variable\n",
    "print dna.count(\"A\")"
   ]
  },
  {
   "cell_type": "code",
   "execution_count": 219,
   "metadata": {
    "collapsed": false
   },
   "outputs": [
    {
     "name": "stdout",
     "output_type": "stream",
     "text": [
      "13\n"
     ]
    }
   ],
   "source": [
    "# How long is the (DNA) string\n",
    "print len(dna)"
   ]
  },
  {
   "cell_type": "code",
   "execution_count": 220,
   "metadata": {
    "collapsed": false
   },
   "outputs": [
    {
     "name": "stdout",
     "output_type": "stream",
     "text": [
      "AUCGUUUUCGAUC\n"
     ]
    }
   ],
   "source": [
    "print dna.replace(\"T\",\"U\")"
   ]
  },
  {
   "cell_type": "code",
   "execution_count": 221,
   "metadata": {
    "collapsed": false
   },
   "outputs": [
    {
     "name": "stdout",
     "output_type": "stream",
     "text": [
      "ATCGTTTTCGATC\n"
     ]
    }
   ],
   "source": [
    "# Replace is not 'inplace'\n",
    "print dna"
   ]
  },
  {
   "cell_type": "code",
   "execution_count": 222,
   "metadata": {
    "collapsed": false
   },
   "outputs": [
    {
     "name": "stdout",
     "output_type": "stream",
     "text": [
      "AUCGUUUUCGAUC\n",
      "AUCGUUUUCGAUC\n"
     ]
    }
   ],
   "source": [
    "rna = dna.replace(\"T\",\"U\")\n",
    "print rna\n",
    "# or inplace\n",
    "dna = dna.replace(\"T\",\"U\")\n",
    "print dna"
   ]
  },
  {
   "cell_type": "code",
   "execution_count": 223,
   "metadata": {
    "collapsed": false
   },
   "outputs": [
    {
     "name": "stdout",
     "output_type": "stream",
     "text": [
      "True\n",
      "False\n"
     ]
    }
   ],
   "source": [
    "# Cheking membership with 'in'\n",
    "print \"U\" in rna\n",
    "print \"T\" in rna"
   ]
  },
  {
   "cell_type": "code",
   "execution_count": 224,
   "metadata": {
    "collapsed": false
   },
   "outputs": [
    {
     "name": "stdout",
     "output_type": "stream",
     "text": [
      "AUCGUUUUCGAUC\n",
      "A\n",
      "\n",
      " U\n",
      "\n",
      "   G\n",
      "\n",
      "            C\n"
     ]
    }
   ],
   "source": [
    "# Accessing elements in string by position. Notice couting is '0' based\n",
    "print dna\n",
    "print dna[0]\n",
    "print\n",
    "print \" \"+dna[1]\n",
    "print \n",
    "print \"   \"+dna[3]\n",
    "print\n",
    "# Get last element\n",
    "print \"            \"+dna[-1]"
   ]
  },
  {
   "cell_type": "code",
   "execution_count": 225,
   "metadata": {
    "collapsed": false
   },
   "outputs": [
    {
     "name": "stdout",
     "output_type": "stream",
     "text": [
      "AUCGUUUUCGAUCAAAAAA\n"
     ]
    }
   ],
   "source": [
    "# Adding some 'bases'\n",
    "dna += \"AAAAAA\"\n",
    "print dna"
   ]
  },
  {
   "cell_type": "code",
   "execution_count": 226,
   "metadata": {
    "collapsed": false
   },
   "outputs": [
    {
     "name": "stdout",
     "output_type": "stream",
     "text": [
      "['__add__', '__class__', '__contains__', '__delattr__', '__doc__', '__eq__', '__format__', '__ge__', '__getattribute__', '__getitem__', '__getnewargs__', '__getslice__', '__gt__', '__hash__', '__init__', '__le__', '__len__', '__lt__', '__mod__', '__mul__', '__ne__', '__new__', '__reduce__', '__reduce_ex__', '__repr__', '__rmod__', '__rmul__', '__setattr__', '__sizeof__', '__str__', '__subclasshook__', '_formatter_field_name_split', '_formatter_parser', 'capitalize', 'center', 'count', 'decode', 'encode', 'endswith', 'expandtabs', 'find', 'format', 'index', 'isalnum', 'isalpha', 'isdigit', 'islower', 'isspace', 'istitle', 'isupper', 'join', 'ljust', 'lower', 'lstrip', 'partition', 'replace', 'rfind', 'rindex', 'rjust', 'rpartition', 'rsplit', 'rstrip', 'split', 'splitlines', 'startswith', 'strip', 'swapcase', 'title', 'translate', 'upper', 'zfill']\n"
     ]
    }
   ],
   "source": [
    "# Listing available 'string methods'\n",
    "print dir(str)"
   ]
  },
  {
   "cell_type": "code",
   "execution_count": 229,
   "metadata": {
    "collapsed": false
   },
   "outputs": [],
   "source": [
    "print help(str)"
   ]
  },
  {
   "cell_type": "markdown",
   "metadata": {},
   "source": [
    "## More advanced data types: lists and dictionaries\n",
    "\n",
    "A variable can also contains other \"boxes\", with the two most useful types of box containers\n",
    "being the lists and dictionaries.\n",
    "\n",
    "**Lists:** ordinal index"
   ]
  },
  {
   "cell_type": "code",
   "execution_count": 230,
   "metadata": {
    "collapsed": true
   },
   "outputs": [],
   "source": [
    "# Delimiters: square brackets\n",
    "a_list = [1,2,12.2,\"P23456\"]"
   ]
  },
  {
   "cell_type": "markdown",
   "metadata": {},
   "source": [
    "List representation: \n",
    "\n",
    "Index | Value\n",
    "--- | ---\n",
    "0 | 1\n",
    "1 | 2\n",
    "2 | 12.2\n",
    "3 | \"P23456\"\n"
   ]
  },
  {
   "cell_type": "code",
   "execution_count": 231,
   "metadata": {
    "collapsed": false
   },
   "outputs": [
    {
     "name": "stdout",
     "output_type": "stream",
     "text": [
      "<type 'list'>\n"
     ]
    }
   ],
   "source": [
    "print type(a_list)"
   ]
  },
  {
   "cell_type": "code",
   "execution_count": 232,
   "metadata": {
    "collapsed": false
   },
   "outputs": [
    {
     "name": "stdout",
     "output_type": "stream",
     "text": [
      "P23456\n"
     ]
    }
   ],
   "source": [
    "# 0 based numbering\n",
    "print a_list[3]"
   ]
  },
  {
   "cell_type": "code",
   "execution_count": 233,
   "metadata": {
    "collapsed": false
   },
   "outputs": [
    {
     "name": "stdout",
     "output_type": "stream",
     "text": [
      "[1, 2, 12.2, 15]\n"
     ]
    }
   ],
   "source": [
    "# Updating elements\n",
    "a_list[3] = 15\n",
    "print a_list"
   ]
  },
  {
   "cell_type": "code",
   "execution_count": 234,
   "metadata": {
    "collapsed": false
   },
   "outputs": [
    {
     "name": "stdout",
     "output_type": "stream",
     "text": [
      "[1, 2, 12.2, 15, 20.0]\n"
     ]
    }
   ],
   "source": [
    "a_list.append(20.0)\n",
    "print a_list\n"
   ]
  },
  {
   "cell_type": "code",
   "execution_count": 235,
   "metadata": {
    "collapsed": false
   },
   "outputs": [
    {
     "name": "stdout",
     "output_type": "stream",
     "text": [
      "[2, 12.2]\n"
     ]
    }
   ],
   "source": [
    "# 'slicing a list'\n",
    "print a_list[1:3]"
   ]
  },
  {
   "cell_type": "code",
   "execution_count": 236,
   "metadata": {
    "collapsed": false
   },
   "outputs": [
    {
     "name": "stdout",
     "output_type": "stream",
     "text": [
      "5\n"
     ]
    }
   ],
   "source": [
    "# List length. Like for strings\n",
    "print len(a_list)"
   ]
  },
  {
   "cell_type": "code",
   "execution_count": 237,
   "metadata": {
    "collapsed": false
   },
   "outputs": [
    {
     "name": "stdout",
     "output_type": "stream",
     "text": [
      "False\n",
      "True\n"
     ]
    }
   ],
   "source": [
    "# Membership testing\n",
    "print 5 in a_list\n",
    "\n",
    "print 20 in a_list"
   ]
  },
  {
   "cell_type": "markdown",
   "metadata": {},
   "source": [
    "**Dictionaries**: alphanumerical keys"
   ]
  },
  {
   "cell_type": "code",
   "execution_count": 238,
   "metadata": {
    "collapsed": true
   },
   "outputs": [],
   "source": [
    "# Delimiters: curly brackets\n",
    "my_dict={\"name\" :\"hemoglobin\",\n",
    "         100: \"PRO2979\", \n",
    "         \"length\": 147}"
   ]
  },
  {
   "cell_type": "markdown",
   "metadata": {},
   "source": [
    "Dictonary representation\n",
    "\n",
    "Key | Value\n",
    "--- | ---\n",
    "\"name\" | \"hemoglobin\"\n",
    "100 | \"PRO2979\"\n",
    "\"length\" | 147\n"
   ]
  },
  {
   "cell_type": "code",
   "execution_count": 239,
   "metadata": {
    "collapsed": false
   },
   "outputs": [
    {
     "name": "stdout",
     "output_type": "stream",
     "text": [
      "<type 'dict'>\n"
     ]
    }
   ],
   "source": [
    "print type(my_dict)"
   ]
  },
  {
   "cell_type": "code",
   "execution_count": 240,
   "metadata": {
    "collapsed": false
   },
   "outputs": [
    {
     "name": "stdout",
     "output_type": "stream",
     "text": [
      "hemoglobin\n"
     ]
    }
   ],
   "source": [
    "print my_dict[\"name\"]"
   ]
  },
  {
   "cell_type": "code",
   "execution_count": 241,
   "metadata": {
    "collapsed": false
   },
   "outputs": [
    {
     "name": "stdout",
     "output_type": "stream",
     "text": [
      "PRO2979\n"
     ]
    }
   ],
   "source": [
    "print my_dict[100]"
   ]
  },
  {
   "cell_type": "code",
   "execution_count": 242,
   "metadata": {
    "collapsed": false
   },
   "outputs": [
    {
     "name": "stdout",
     "output_type": "stream",
     "text": [
      "120\n"
     ]
    }
   ],
   "source": [
    "my_dict[\"length\"] = 120\n",
    "print my_dict[\"length\"]"
   ]
  },
  {
   "cell_type": "code",
   "execution_count": 243,
   "metadata": {
    "collapsed": false
   },
   "outputs": [
    {
     "name": "stdout",
     "output_type": "stream",
     "text": [
      "{'length': 120, 100: 'PRO2979', 'name': 'hemoglobin'}\n",
      "P69891\n",
      "{'length': 120, 100: 'PRO2979', 'name': 'hemoglobin', 'ID': 'P69891'}\n"
     ]
    }
   ],
   "source": [
    "print my_dict\n",
    "my_dict[\"ID\"] = \"P69891\"\n",
    "print my_dict[\"ID\"]\n",
    "print my_dict"
   ]
  },
  {
   "cell_type": "code",
   "execution_count": 244,
   "metadata": {
    "collapsed": false
   },
   "outputs": [
    {
     "name": "stdout",
     "output_type": "stream",
     "text": [
      "['length', 100, 'name', 'ID']\n"
     ]
    }
   ],
   "source": [
    "print my_dict.keys()"
   ]
  },
  {
   "cell_type": "markdown",
   "metadata": {},
   "source": [
    "### filter & lambda (advanced)\n",
    "\n",
    "filter: allows to select some elements of a list based on a condition. For example, if you would like to select all the elements of myList1 that are also in myList2 and put this common elements in myList3, you could use:\n",
    "\n",
    "```python \n",
    "   myList3 = filter( lambda x: x in List2, List 1)\n",
    "```\n",
    "\n",
    "---"
   ]
  },
  {
   "cell_type": "markdown",
   "metadata": {},
   "source": [
    "## Control structures\n",
    "\n",
    "The constructs *if* and *for* are the most common control structures used to execute instructions according to a\n",
    "certain conditions and repeatedly, respectively. The instructions that are under controlled are\n",
    "identified by their common level of indentations, which could be indicated by tabulations or blank\n",
    "spaces. We recommend in this course to always use blanks because it increases readability\n",
    "(especially for us to understand the code you will paste in your answers).\n",
    "\n",
    "\n",
    "### Conditional statements ###\n",
    "\n",
    "**if, elif, and else**\n",
    "\n",
    "The conditional operators are ==, >, <, >=, <=, is and in (note that a single = is not an operator). Any\n",
    "function returning boolean values (True or False) could also be used as a condition. Several\n",
    "conditions can be combined using *and* and *or* keywords. For example:\n",
    "\n",
    "```python\n",
    "   if (age < 30) and (weight > 150):\n",
    "```"
   ]
  },
  {
   "cell_type": "markdown",
   "metadata": {},
   "source": [
    "**if, elif & else block**\n",
    "\n",
    "```python\n",
    "if condition1:\n",
    "    do something if condition1 is True\n",
    "    do more things if condition1 is True\n",
    "    do even more things if condition1 is True\n",
    "elif condition2:\n",
    "    do something if condition2 is True and condition1 is False\n",
    "else:\n",
    "    do something if condition1 and condition2 are False\n",
    "    # TODO: check below is correct \n",
    "    do more things if condition1 is False\n",
    "    do something whatever True or False\n",
    "```\n",
    "\n",
    "**Example:**"
   ]
  },
  {
   "cell_type": "code",
   "execution_count": 245,
   "metadata": {
    "collapsed": false
   },
   "outputs": [
    {
     "name": "stdout",
     "output_type": "stream",
     "text": [
      "The codon is DNA, changing to RNA\n",
      "This is the start codon!\n",
      "The analysed codon is AUG\n",
      "\n"
     ]
    }
   ],
   "source": [
    "mycodon = \"ATG\"\n",
    "\n",
    "if \"T\" in mycodon:\n",
    "    print \"The codon is DNA, changing to RNA\"\n",
    "    mycodon = mycodon.replace(\"T\",\"U\")\n",
    "else:\n",
    "    print \"The codon is possibly RNA\"\n",
    "\n",
    "if mycodon == \"AUG\":\n",
    "    print \"This is the start codon!\"\n",
    "\n",
    "print \"The analysed codon is\", mycodon\n",
    "print"
   ]
  },
  {
   "cell_type": "markdown",
   "metadata": {},
   "source": [
    "---\n",
    "\n",
    "## Exercise 1 ( 1 mark) ##\n",
    "\n",
    "Create a program by extending the code provided. The program will check if a given amino acid single letter code is in\n",
    "the dictionary *aa_codes.*\n",
    "\n",
    "The current code could be used to translate an amino acid single letter code to the corresponding [three\n",
    "letter code].\n",
    "\n",
    "[three letter code]: http://www.fao.org/docrep/004/y2775e/y2775e0e.htm \n",
    "\n",
    "When given an amino acid single letter code, the program will check if it is present in the aa_code dictionary. If it is present the program should print the corresponding three amino acid code. If the single letter code is not present in the aa_code dictionary the program should print an error message explaining that the given letter does not correspond to an amino acid.\n",
    "\n",
    "\n",
    "**Sample code:**\n",
    "\n",
    "```python\n",
    "   aa = \"W\"\n",
    "   aa_codes = {'Y':'TYR', 'F':'PHE', 'C':'CYS', 'V':'VAL', 'H':'HIS', 'L':'LEU', \n",
    "               'D':'ASP', 'A':'ALA', 'S':'SER', 'E':'GLU', 'W':'TRP', 'P':'PRO',\n",
    "               'I':'ILE', 'R':'ARG', 'K':'LYS', 'N':'ASN', 'M':'MET', 'T':'THR', \n",
    "               'G':'GLY', 'Q':'GLN'}\n",
    "```\n",
    "\n",
    "### Part 1) ###\n",
    "\n",
    "\n",
    "Extend the sample code above such that the output of your code is:\n",
    "\n",
    "    The provided letter is W\n",
    "    This letter is in the dictionary, it corresponds to the amino acid TRP\n",
    "    \n",
    "Enter you code into the cell labelled *Question 1, part 1.*\n",
    "\n",
    "\n",
    "### Part 2) ###\n",
    "\n",
    "Taking your code from part 1, modify the variable *aa*, so that *aa = 'Z'*. Extend the code such that the output of your code is:\n",
    "\n",
    "    The provided letter is Z\n",
    "    This letter is not the dictionary and therefore does not correspond to an amino acid\n",
    "\n",
    "\n",
    "Enter you code into the cell labelled *Question 1, part 2.*"
   ]
  },
  {
   "cell_type": "code",
   "execution_count": 246,
   "metadata": {
    "collapsed": true
   },
   "outputs": [],
   "source": [
    "# Question 1, part 1."
   ]
  },
  {
   "cell_type": "code",
   "execution_count": 247,
   "metadata": {
    "collapsed": true
   },
   "outputs": [],
   "source": [
    "# Question 1, part 2."
   ]
  },
  {
   "cell_type": "markdown",
   "metadata": {},
   "source": [
    "---\n",
    "\n",
    "### Control flow ###\n",
    "\n",
    "**for, in**: executing repeatedly on elements\n",
    "\n",
    "The for loop:\n",
    "\n",
    "```python\n",
    "for variable in list:\n",
    "    do something with variable\n",
    "    do something else with variable\n",
    "do something out of the loop\n",
    "```\n",
    "\n",
    "**Example:**"
   ]
  },
  {
   "cell_type": "code",
   "execution_count": 248,
   "metadata": {
    "collapsed": false
   },
   "outputs": [
    {
     "name": "stdout",
     "output_type": "stream",
     "text": [
      "The amino acid is M\n",
      " It is a hydrophobic residue\n",
      "The amino acid is H\n",
      "The amino acid is K\n",
      "The amino acid is L\n",
      " It is a hydrophobic residue\n",
      "End of the program\n"
     ]
    }
   ],
   "source": [
    "hydrophobics = \"FLIMVPAWG\"\n",
    "sequence = [\"M\",\"H\",\"K\",\"L\"]\n",
    "\n",
    "for aa in sequence:\n",
    "    print \"The amino acid is\",aa\n",
    "    if aa in hydrophobics:\n",
    "        print \" It is a hydrophobic residue\"\n",
    "print \"End of the program\""
   ]
  },
  {
   "cell_type": "markdown",
   "metadata": {},
   "source": [
    "---\n",
    "\n",
    "## Exercise 2 (1.5 marks): ##\n",
    "\n",
    "Use the following sample code:\n",
    "\n",
    "```python\n",
    "   hydrophobics = \"FLIMVPAWG\"\n",
    "   sequence = [\"M\",\"H\",\"K\",\"L\"]\n",
    "\n",
    "   for aa in sequence:\n",
    "       print \"The amino acid is\",aa\n",
    "       if aa in hydrophobics:\n",
    "           print \" It is a hydrophobic residue\"\n",
    "   print \"End of the program\"\n",
    "```\n",
    "\n",
    "\n",
    "### Part 1) ###\n",
    "\n",
    "By modifying the example code provided, how does the output change when the sequence variable is changed to\n",
    "*sequence = \"MHKL\"*. Explain what has happened.\n",
    "\n",
    "Enter your written response into the cell labelled *Question 2, part 1.* This is a markdown cell. For formamtting options see the [Markdown cheatsheet].\n",
    "\n",
    "\n",
    "### Part 2) ###\n",
    "\n",
    "Modify the sample code so that instead of printing *It is hydrophobic* if a residue is hydrophobic, you instead print the sequence, then use a '*'on the line/position below to denote hydrophobicity.\n",
    "\n",
    "The expected output is::\n",
    "\n",
    "    MHKL\n",
    "    *  *\n",
    "\n",
    "Enter you code into the cell labelled *Question 2, part 2.*\n",
    "\n",
    "\n",
    "### Part 3) ###\n",
    "\n",
    "Using the program you wrote in **Part 2**, change the sequence variable to the contents of:\n",
    "\n",
    "```python\n",
    "sequence = \"MCGTEGPNFYVPFSNKTGVVRSPFEAPQYYLAEPWQFSMLAAYMFLLIMLGFPINFLTLYVTVQHKKLRTPLNYILLNLAVADLFMVFGGFTTTLYTSL HGYFVFGPTGCNLEGFFATLGGEIALWSLVVLAIERYVVVCKPMSNFRFGENHAIMGVAFTWVMALACAAPPLVGWSRYIPEGMQCSCGIDYYTPHEETNNESFVIYMFVVHFIIPLIVIFFCYGQLVFTVKEAAAQQQESATTQKAEKEVTRMVIIMVIAFLICWLPYAGVAFYIFTHQGSCFGPIFMTIPAFFAKTSAVYNPVIYIMMNKQFRNCMVTTLCCGKNPLGDDEASTTVSKTETSQVAPA\"\n",
    "```\n",
    "\n",
    "How many hydrophobic clusters do you see? What kind of protein is this and why?\n",
    "\n",
    "Enter the output of you program and your written response into the cell labelled *Question 2, part 3.* This is a markdown cell. For formamtting options see the [Markdown cheatsheet].\n",
    "\n",
    "[Markdown cheatsheet]: https://github.com/adam-p/markdown-here/wiki/Markdown-Here-Cheatsheet#links"
   ]
  },
  {
   "cell_type": "markdown",
   "metadata": {},
   "source": [
    "Question 2, part 1"
   ]
  },
  {
   "cell_type": "code",
   "execution_count": 249,
   "metadata": {
    "collapsed": true
   },
   "outputs": [],
   "source": [
    "# Question 2, part 2"
   ]
  },
  {
   "cell_type": "markdown",
   "metadata": {},
   "source": [
    "Question 2, part 3"
   ]
  },
  {
   "cell_type": "markdown",
   "metadata": {},
   "source": [
    "---\n",
    "\n",
    "## Advanced Control structure topics: ##\n",
    "\n",
    "**The break statement allows termination of a for loop prematurely:**\n",
    "\n",
    "```python\n",
    "   for element in list\n",
    "       if element == 'this is what we want':\n",
    "           print 'found it'\n",
    "           break\n",
    "```\n",
    "\n",
    "**Looping over the keys of a dictionary using:**\n",
    "\n",
    "```python\n",
    "   for myKey in myDict:\n",
    "```\n",
    "\n",
    "**Looping over the dictionary keys and values simultaneously using:**\n",
    "\n",
    "```python\n",
    "   for key, value in dict.iteritems():\n",
    "```\n",
    "\n",
    "**Executing repeatedly over several lists simultaneously:**\n",
    "\n",
    "Imagine you have several lists of same length, which is the equivalent of a spreadsheet were the columns are stored in different lists. How to simultaneously list all the elements of each list?\n",
    "\n",
    "Index | List 1 | List 2 | List 3 | ...\n",
    "--- | --- | --- | --- | ---\n",
    "0 | List1[0] | List2[0] | List3[0] | ...\n",
    "1 | List1[1] | List2[1] | List3[1] | ...\n",
    "2 | List1[2] | List2[2] | List3[2] | ...\n",
    "... |  ... | ... | ... | ...\n",
    "\n",
    "\n",
    "Here are three simple strategies that you could use to loop simultaneously over values in lists of same length. \n",
    "\n",
    "Lets take the example of two lists containing some protein UniProt codes and their sequence length, respectively:\n",
    "\n",
    "\n",
    "**Strategy 1)** Incrementing an index using range\n"
   ]
  },
  {
   "cell_type": "code",
   "execution_count": 250,
   "metadata": {
    "collapsed": false
   },
   "outputs": [
    {
     "name": "stdout",
     "output_type": "stream",
     "text": [
      "0 O13572 173\n",
      "1 Q12346 211\n",
      "2 O13583 123\n",
      "3 P32329 569\n",
      "4 Q12303 508\n",
      "5 P53057 165\n"
     ]
    }
   ],
   "source": [
    "prot_code = ['O13572','Q12346','O13583','P32329','Q12303','P53057']\n",
    "prot_length = [173,211,123,569,508,165]\n",
    "for element in range(len(prot_code)):\n",
    "    print element, prot_code[element], prot_length[element]\n"
   ]
  },
  {
   "cell_type": "markdown",
   "metadata": {},
   "source": [
    "**Strategy 2)** Using enumerate(list): return two values, the index and the value at this index"
   ]
  },
  {
   "cell_type": "code",
   "execution_count": 251,
   "metadata": {
    "collapsed": false
   },
   "outputs": [
    {
     "name": "stdout",
     "output_type": "stream",
     "text": [
      "0 O13572 173\n",
      "1 Q12346 211\n",
      "2 O13583 123\n",
      "3 P32329 569\n",
      "4 Q12303 508\n",
      "5 P53057 165\n"
     ]
    }
   ],
   "source": [
    "for index, code in enumerate(prot_code):\n",
    "    print index, code, prot_length[index]"
   ]
  },
  {
   "cell_type": "markdown",
   "metadata": {},
   "source": [
    "**Strategy 3)** Using zip(list1,list2): concatenate the values of several list"
   ]
  },
  {
   "cell_type": "code",
   "execution_count": 252,
   "metadata": {
    "collapsed": false
   },
   "outputs": [
    {
     "name": "stdout",
     "output_type": "stream",
     "text": [
      "O13572 173\n",
      "Q12346 211\n",
      "O13583 123\n",
      "P32329 569\n",
      "Q12303 508\n",
      "P53057 165\n"
     ]
    }
   ],
   "source": [
    "# But we aren't giving the index here...\n",
    "for code, length in zip(prot_code, prot_length):\n",
    "    print code, length"
   ]
  },
  {
   "cell_type": "markdown",
   "metadata": {},
   "source": [
    "---\n",
    "\n",
    "## Functions ##\n",
    "\n",
    "A function is a block of organized, reusable code that is used to perform a single, related action.\n",
    "\n",
    "There are several good reason why you should organise your code by writing functions:\n",
    " \n",
    " * it allows you to reuse your code at several different place in your code,\n",
    " * it makes your code easier to understand, and\n",
    " * it allows you to identify bugs more easily (and also by not duplicating code prevent new bugs).\n",
    "\n",
    "\n",
    "**Function syntax**\n",
    "\n",
    "```python\n",
    "   def afunction (param1, param2, ...):\n",
    "       do something with the parameters\n",
    "       do more things with the parameters\n",
    "   return value\n",
    "\n",
    "var = afunction(10, 2e-3, \"PE1290\")\n",
    "```\n",
    "\n",
    "**Example:**"
   ]
  },
  {
   "cell_type": "code",
   "execution_count": 253,
   "metadata": {
    "collapsed": false
   },
   "outputs": [
    {
     "name": "stdout",
     "output_type": "stream",
     "text": [
      "True\n"
     ]
    }
   ],
   "source": [
    "def is_DNA(seq):\n",
    "    not_DNA = \"QWERYUIOPSDFHJKLZXVBNM\"\n",
    "    for aa in not_DNA:\n",
    "        if aa in seq:\n",
    "            return False\n",
    "    return True\n",
    "\n",
    "print is_DNA(\"GTTCGACCA\")"
   ]
  },
  {
   "cell_type": "markdown",
   "metadata": {},
   "source": [
    "**About return**\n",
    "\n",
    "A value (integer, float, string, object...) is sent back from the function using the return statement.\n",
    "\n",
    "The return statement could happen at any point in the function definition and will terminate the function execution (the example above has two return statements, i.e. two possible termination points of the function).\n"
   ]
  },
  {
   "cell_type": "markdown",
   "metadata": {},
   "source": [
    "---\n",
    "\n",
    "### Exercise 3 (1 mark)\n",
    "\n",
    "Use the following sample function (it is identical to the last example):\n",
    "\n",
    "```python\n",
    "    def is_DNA(seq):\n",
    "        not_DNA = \"QWERYUIOPSDFHJKLZXVBNM\"\n",
    "        for aa in not_DNA:\n",
    "            if aa in seq:\n",
    "                return False\n",
    "        return True\n",
    "```\n",
    "\n",
    "### Part 1)\n",
    "\n",
    "What is the purpose of the function `is_DNA(seq)` defined above? What are the two possible outputs?\n",
    "\n",
    "Enter your written response into the cell labelled Question 3, part 1. This is a markdown cell. For formamtting options see the Markdown cheatsheet.\n",
    "\n",
    "\n",
    "### Part 2)\n",
    "\n",
    "Copy the code from the exercise above and comment what each line does.\n",
    "\n",
    "Enter you code into the cell labelled *Question 3, part 2.*\n",
    "\n",
    "[Markdown cheatsheet]: https://github.com/adam-p/markdown-here/wiki/Markdown-Here-Cheatsheet#links"
   ]
  },
  {
   "cell_type": "markdown",
   "metadata": {},
   "source": [
    "Question 3, part 1. "
   ]
  },
  {
   "cell_type": "code",
   "execution_count": 254,
   "metadata": {
    "collapsed": true
   },
   "outputs": [],
   "source": [
    "# Question 3, part 2"
   ]
  },
  {
   "cell_type": "markdown",
   "metadata": {},
   "source": [
    "---\n",
    "\n",
    "## Reading, parsing and writing formatted text files ###\n",
    "\n",
    "A common task in Bioinformatics is to write scripts that parse data stored in formatted files. Here are standard procedures to read and write files as well as some tips how to parse formatted (tab, csv, etc.) files.\n",
    "\n",
    "The syntax for opening text files, reading text files and writing into them is standard. You could\n",
    "therefore use the following examples as recipes.\n",
    "\n",
    "\n",
    "### Reading text files ###\n",
    "\n",
    "Recipe:\n",
    "\n",
    "```python\n",
    "    in_file = open(\"filename\", 'r')\n",
    "    idx = 0\n",
    "    for aline in in_file:\n",
    "        idx += 1\n",
    "        print index, aline,\n",
    "    in_file.close()\n",
    "```\n",
    "\n",
    "The keyword `open` is used to open file called `filename` and return a file handle in the `read (r)` mode, which is stored in the variable `in_file`. The `for` loop then reads each line of the file, and stores the each line in turn in the variable `aline`. In the `for` loop the index (`idx`) of the line as well as the line (the contents of `aline`) itself is printed. Finally, the file has to be closed using `.close().\n",
    "\n",
    "\n",
    "### Writing text files ###\n",
    "\n",
    "Writing text into files uses very similar syntax to reading files. Instead of printing via `print` you use the `.write()` method of a open file handle (in `write, (w)` mode).\n",
    "\n",
    "Recipe: the following code writes each value found in the list `data` onto a different line to the output file named `outfile.txt`\n",
    "\n",
    "```python\n",
    "   data = [\"P1231\", \"P234234\", \"O89098\"]\n",
    "   fh = open(\"outfile.txt\", \"w\")\n",
    "   for element in data:\n",
    "       fh.write(element+\"\\n\")\n",
    "   fh.close()\n",
    "```\n",
    "\n",
    "**Gotchas**\n",
    "\n",
    "The carriage return character \"\\n\" (i.e. ”go to the next line”) has to be explicitly appended to each line of output. This is different behaviour than the command print that adds a return character. \n",
    "\n",
    "Strings can only be passed to the `.write()` function. Data of other types will need to be converted into strings (str(100.0)).\n",
    "\n",
    "\n",
    "### Parsing structured text from files ###\n",
    "\n",
    "\n",
    "Parsing is about reading data in one format so that you can use it to yours needs.\n",
    "\n",
    "The function `split()` of string types is very useful for parsing formatted files in which the data is formatted into columns (i.e. data fields are organised in columns separated by spaces, tabs or commas.) \n",
    "\n",
    "An example of column formatted text (file is cyclotide.txt):\n",
    "\n",
    "```\n",
    "1 kalata_B1 GLPVCGETCVGGTCNTPGCTCSWPVCTRN\n",
    "2 cycloviolacin_O1 GIPCAESCVYIPCTVTALLGCSCSNRVCYN\n",
    "4 kalata_B2 GLPVCGETCFGGTCNTPGCSCTWPICTRD\n",
    "5 palicourein GDPTFCGETCRVIPVCTYSAALGCTCDDRSDGLCKRN\n",
    "6 vhr1 GIPCAESCVWIPCTVTALLGCSCSNKVCYN\n",
    "7 tricyclon_A GGTIFDCGESCFLGTCYTKGCSCGEWKLCYGTN\n",
    "8 circulin_A GIPCGESCVWIPCISAALGCSCKNKVCYRN\n",
    "21 cycloviolacin_O2 GIPCGESCVWIPCISSAIGCSCKSKVCYRN\n",
    "24 kalata_B6 GLPTCGETCFGGTCNTPGCSCSSWPICTRN\n",
    "25 kalata_B3 GLPTCGETCFGGTCNTPGCTCDPWPICTRD\n",
    "26 kalata_B7 GLPVCGETCTLGTCYTQGCTCSWPICKRN\n",
    "27 cycloviolacin_O8 GTLPCGESCVWIPCISSVVGCSCKSKVCYKN\n",
    "28 cycloviolacin_O11 GTLPCGESCVWIPCISAVVGCSCKSKVCYKN\n",
    "30 kalata_B4 GLPVCGETCVGGTCNTPGCTCSWPVCTRD\n",
    "31 vodo_M GAPICGESCFTGKCYTVQCSCSWPVCTRN\n",
    "32 cyclopsychotride_A SIPCGESCVFIPCTVTALLGCSCKSKVCYKN\n",
    "33 cycloviolacin_H1 GIPCGESCVYIPCLTSAIGCSCKSKVCYRN\n",
    "...\n",
    "```\n",
    "\n",
    "You could use the following code to extract the data in each column:\n",
    "\n",
    "```python \n",
    "   in_file = open(\"cyclotide.txt\", 'r')\n",
    "   for line in in_file:\n",
    "       fields = line.strip().split()\n",
    "       print fields[0], fields[1], fields[2]\n",
    "   in_file.close()\n",
    "```\n",
    "\n",
    "\n",
    "The line `fields = line.strip().split()` performs the parsing of each line. The `strip()` functions removes the carriage return ('\\n' character) at the end of the line as well as leading and trailing whitespace removed. The `split()` then creates a list of elements for each space separated element in the line.\n",
    "\n",
    "Read the help provided for `strip()` and `split()` functions:"
   ]
  },
  {
   "cell_type": "code",
   "execution_count": 256,
   "metadata": {
    "collapsed": false
   },
   "outputs": [],
   "source": [
    "help(str)"
   ]
  },
  {
   "cell_type": "markdown",
   "metadata": {},
   "source": [
    "The first iteration of the for loop and the prasing logic will result in a list, `fields` of length 3 with:\n",
    " * fields[0] containing \"1\",\n",
    " * fields[1] containing \"kalata_B1\", and \n",
    " * fields[2] containing \"GLPVCGETCVGGTCNTPGCTCSWPVCTRN\"\n",
    "\n",
    "Note, that the integer index is a `str` type. You will most likely want to convert it to an int using `fields[0] = int(fields[0])`.\n",
    "\n",
    "**Importance of choosing delimiters**\n",
    "\n",
    "This recipe will fail if the fields contain varible numbers of blanks spaces (\"kalata B1\" instead of kalata_B1) as the .split() function will interpret it as several fields. If the fields are separated by something else other than blank spaces, for example tabs, then the fields could be retrieved using code that passes the delimiter to the `split()` function. \n",
    "\n",
    "For example the following file is tab separated:"
   ]
  },
  {
   "cell_type": "code",
   "execution_count": 257,
   "metadata": {
    "collapsed": false
   },
   "outputs": [
    {
     "name": "stdout",
     "output_type": "stream",
     "text": [
      "P8096HYR\tTranscription factor from plant\t1\t21\tMREVHLLLLLVL\r\n",
      "P80IKDLC\tUnkown protein\t1\t19\tMDELVHLLLLM\r\n"
     ]
    }
   ],
   "source": [
    "%cat data.txt"
   ]
  },
  {
   "cell_type": "markdown",
   "metadata": {},
   "source": [
    "You could modify the previous example to parse the elements of each line (\"\\t\" is the value for a 'tab' in Python):"
   ]
  },
  {
   "cell_type": "code",
   "execution_count": 258,
   "metadata": {
    "collapsed": false
   },
   "outputs": [
    {
     "name": "stdout",
     "output_type": "stream",
     "text": [
      "Transcription factor from plant 20\n",
      "Unkown protein 18\n"
     ]
    }
   ],
   "source": [
    "in_file = open(\"data.txt\")\n",
    "for line in in_file:\n",
    "    fields = line.strip().split(\"\\t\")\n",
    "    print fields[1], int(fields[3])-int(fields[2])\n",
    "in_file.close()"
   ]
  },
  {
   "cell_type": "markdown",
   "metadata": {},
   "source": [
    "In the first iteration of the `for` loop, `fields` will contain `['P8096HYR','Transcription factor from plant','1','21','MREVHLLLLLVL']`. See how the second element contains spaces but was not split into\n",
    "several fields by `.split()`. Note also how the keyword `int` was used to convert `string` field elements into an integer. Remember that elements extracted by `split()` are of type `string`, and if you want to use numerical \n",
    "values that have been extracted you need to convert the string into integer or a float values.\n",
    "\n",
    "For more information on special string literals such as '\\t' see section 2.4.1 in the [Python documentation].\n",
    "\n",
    "[Python documentation]: https://docs.python.org/2/reference/lexical_analysis.html\n",
    "\n",
    "\n",
    "**Parsing complex files**\n",
    "\n",
    "Databases from EBI or NCBI do not provide data as tables but in flat files. For example an UniProt flat file looks like this:"
   ]
  },
  {
   "cell_type": "code",
   "execution_count": 259,
   "metadata": {
    "collapsed": false
   },
   "outputs": [
    {
     "name": "stdout",
     "output_type": "stream",
     "text": [
      "ID E7KCZ5_YEASA Unreviewed; 254 AA.\r\n",
      "AC E7KCZ5;\r\n",
      "DT 05-APR-2011, integrated into UniProtKB/TrEMBL.\r\n",
      "DT 05-APR-2011, sequence version 1.\r\n",
      "DT 11-JUN-2014, entry version 8.\r\n",
      "DE SubName: Full=YGR283C-like protein;\r\n",
      "GN ORFNames=AWRI796_2020;\r\n",
      "OS Saccharomyces cerevisiae (strain AWRI796) (Baker's yeast).\r\n",
      "OC Eukaryota; Fungi; Dikarya; Ascomycota; Saccharomycotina;\r\n",
      "OC Saccharomycetes; Saccharomycetales; Saccharomycetaceae; Saccharomyces.\r\n",
      "OX NCBI_TaxID=764097;\r\n",
      "RN [1]\r\n",
      "RP NUCLEOTIDE SEQUENCE [LARGE SCALE GENOMIC DNA].\r\n",
      "RC STRAIN=AWRI796;\r\n",
      "RX PubMed=21304888; DOI=10.1371/journal.pgen.1001287;\r\n",
      "RA Borneman A.R., Desany B.A., Riches D., Affourtit J.P., Forgan A.H.,\r\n",
      "RA Pretorius I.S., Egholm M., Chambers P.J.;\r\n",
      "RT \"Whole-genome comparison reveals novel genetic elements that\r\n",
      "RT characterize the genome of industrial strains of Saccharomyces\r\n",
      "RT cerevisiae.\";\r\n",
      "RL PLoS Genet. 7:E1001287-E1001287(2011).\r\n",
      "CC -!- CAUTION: The sequence shown here is derived from an\r\n",
      "CC EMBL/GenBank/DDBJ whole genome shotgun (WGS) entry which is\r\n",
      "CC preliminary data.\r\n",
      "CC -----------------------------------------------------------------------\r\n",
      "CC Copyrighted by the UniProt Consortium, see http://www.uniprot.org/terms\r\n",
      "CC Distributed under the Creative Commons Attribution-NoDerivs License\r\n",
      "CC -----------------------------------------------------------------------\r\n",
      "DR EMBL; ADVS01000026; EGA74818.1; -; Genomic_DNA.\r\n",
      "DR OrthoDB; EOG7HB5KX; -.\r\n",
      "DR Gene3D; 3.40.1280.10; -; 2.\r\n",
      "DR InterPro; IPR029028; Alpha/beta_knot_MTases.\r\n",
      "DR InterPro; IPR003750; Put_MeTrfase.\r\n",
      "DR InterPro; IPR029026; tRNA_m1G_MTases_N.\r\n",
      "DR PANTHER; PTHR12150; PTHR12150; 1.\r\n",
      "DR Pfam; PF02598; Methyltrn_RNA_3; 1.\r\n",
      "DR SUPFAM; SSF75217; SSF75217; 1.\r\n",
      "PE 4: Predicted;\r\n",
      "KW Complete proteome.\r\n",
      "SQ SEQUENCE 254 AA; 28828 MW; 2BC3529DC9D287D0 CRC64;\r\n",
      "   MKKKSRSKET ISDCLLLATL LQYFVTPPNL LDTTFKKKNK LYLKCASTFP SLKQLPFMNA\r\n",
      "   SAEQHYKEGL SIARDSSKGK SDDALTNLVY IGKNQIITLS NQNIPNTARV TVDTERKEVV\r\n",
      "   SPIDSYKGKP LGYHVRMAST LNEVSEGYTK IVWVNSGDFH YDEELSKYHK VETKLPYIAK\r\n",
      "   LKKSSTSEKP CNILLIFGKW GHLKRCFRRS DLESSSLHHY FSGQLQFPAS IPQGNIPIQD\r\n",
      "   SLPIALTMFQ RWAS\r\n",
      "//\r\n"
     ]
    }
   ],
   "source": [
    "%cat uniprot_example.embl"
   ]
  },
  {
   "cell_type": "markdown",
   "metadata": {},
   "source": [
    "Accessing information from these types of files is slightly more complicated than from column formatted or tab separated text. Here the lines have to be tested for certain criteria (using `if` statements) that allows to pinpoint the lines of interest. For example to extract from the previous file the identifier, the organism, the molecular weight and the sequence, we could inspect the first two characters of each line as these allow identification of lines of interest.\n",
    "\n",
    "**Simple EMBL format parser:**"
   ]
  },
  {
   "cell_type": "code",
   "execution_count": 260,
   "metadata": {
    "collapsed": false
   },
   "outputs": [
    {
     "name": "stdout",
     "output_type": "stream",
     "text": [
      "E7KCZ5_YEASA ccharomyces cerevisiae (strain AWRI796) (Baker's yeast). 28828 MKKKSRSKETISDCLLLATLLQYFVTPPNLLDTTFKKKNKLYLKCASTFPSLKQLPFMNASAEQHYKEGLSIARDSSKGKSDDALTNLVYIGKNQIITLSNQNIPNTARVTVDTERKEVVSPIDSYKGKPLGYHVRMASTLNEVSEGYTKIVWVNSGDFHYDEELSKYHKVETKLPYIAKLKKSSTSEKPCNILLIFGKWGHLKRCFRRSDLESSSLHHYFSGQLQFPASIPQGNIPIQDSLPIALTMFQRWAS\n"
     ]
    }
   ],
   "source": [
    "ident =\"\"\n",
    "organism = \"\"\n",
    "m_weight = 0\n",
    "seq = \"\"\n",
    "\n",
    "in_file = open(\"uniprot_example.embl\")\n",
    "for line in in_file:\n",
    "    fields = line.strip().split()\n",
    "    if line[0:2] == \"ID\":\n",
    "        ident = fields[1]\n",
    "    if line[0:2] == \"OS\":\n",
    "        organism = line[5:].strip()\n",
    "    if line[0:2] == \"SQ\":\n",
    "        m_weight = int(fields[4])\n",
    "    if line[0:2] == \"  \":\n",
    "        seq += line.replace(\" \",\"\").strip()\n",
    "in_file.close()\n",
    "\n",
    "print ident, organism, m_weight, seq"
   ]
  },
  {
   "cell_type": "markdown",
   "metadata": {},
   "source": [
    "You could also use `str.startswith()`. Investigate how it works:"
   ]
  },
  {
   "cell_type": "code",
   "execution_count": 208,
   "metadata": {
    "collapsed": false
   },
   "outputs": [],
   "source": [
    "help(str)"
   ]
  },
  {
   "cell_type": "markdown",
   "metadata": {},
   "source": [
    "\n",
    "---\n",
    "\n",
    "## Using python libraries ##\n",
    "\n",
    "Python libraries are Python files that contain definitions of functions and objects. These functions and\n",
    "objects can be used within your code by importing them with the `import` keyword. \n",
    "\n",
    "There are a large number of available python libraries that you can use. Some of the standard python libraries (that come with Python by default) that you should consider learning are `sys` (system), `os` (operating system) and `re` (regular expressions). "
   ]
  },
  {
   "cell_type": "code",
   "execution_count": 264,
   "metadata": {
    "collapsed": false
   },
   "outputs": [],
   "source": [
    "# Help on the sys module. \n",
    "# You need to import it first.\n",
    "import sys\n",
    "help(sys)"
   ]
  },
  {
   "cell_type": "markdown",
   "metadata": {},
   "source": [
    "One of the most popular and well used Python bioinformatics libraries is [BioPython]. You can search for publicly available libraries on the [Python Package Index] (PyPI).\n",
    "\n",
    "[BioPython]: http://biopython.org/\n",
    "[Python Package Index]: https://pypi.python.org/pypi\n",
    "\n",
    "The UQ bioinformatics team has written a number of libraries nicknamed `uqbinfpy` that we will use during this course. The main libraries that we will use in BIOL3014/BINF7000 in 2015 are `symbol`, `sequence`, `prob`, `stats`, `webservice` and `ml`. \n",
    "\n",
    "The following tables list some (not all) functions from the course libraries that we will use during the pracs, projects and lectures.\n",
    "\n",
    "\n",
    "** webservice: connect to EBI to retrieve some information through the Web**\n",
    "\n",
    "Function | Description\n",
    "--- | ---\n",
    "fetch(myID) | Retrieves the sequence of a protein using its UniProt ID\n",
    "getGOTerms(myID) | Retrieves the GO terms associated with one protein UniProt ID and returns them in a list\n",
    "getGOTerms([myID1,myID2,myID3]) | Retrieves the GO terms associated with several IDs\n",
    "getGODef(myGOTerm) | Retrieves the definition of a GO term\n",
    "getGenes(myGOTerms,taxo=MyTaxonomyNumber)| Retrieves all the proteins UniProt ID from an organism with a given taxonomy and GO terms\n",
    "\n",
    "\n",
    "**symbol: defines the Alphabet class used to define the symbols for proteins and nucleic acids**\n",
    "\n",
    "Function | Description\n",
    "--- | ---\n",
    "Alphabet() | Class defining the objects of type Alphabet()\n",
    "DNA_Alphabet | Alphabet for DNA sequences\n",
    "Protein_Alphabet | Alphabet for protein sequences\n",
    "DSSP_Alphabet Alphabet |for secondary structure sequences\n",
    "\n",
    "\n",
    "**sequence: class and functions to manage biological sequences**\n",
    "\n",
    "Function | Description\n",
    "--- | ---\n",
    "Sequence(mySequence,myAlphabet) | Stores a biological sequence and its Alphabet\n",
    "readFastaFile(myFilename) | Read a fasta format sequence files\n",
    "writeFastaFile(myFilename,mySequences) | Write sequences in a file\n",
    "alignGlobal(mySequenceA,mySequenceB,mySubstMatrx) | Global alignment between two sequences\n",
    "PWM(myForeground,myBackground) | Defines a position weight matrix\n",
    "\n",
    "\n",
    "**prob: function to define simple probability distributions**\n",
    "\n",
    "Function | Description\n",
    "--- | ---\n",
    "Distrib | A class for a discrete probability distribution, defined overa specified \"Alphabet\"\n",
    "Joint | A joint probability class\n",
    "IndepJoint | A joint probability of independent distributions\n",
    "NaiveBayes | Naive Bayes classifier\n",
    "\n",
    "\n",
    "**ml: machine learning library for neural network and K means clustering**\n",
    "\n",
    "Function | Description\n",
    "--- | ---\n",
    "NN | A class to define and use neural networks\n",
    "readNNFile | Reads neural networks created with NN\n",
    "Qk | Computes k accuracy\n",
    "Kmeans | A class to perform K means clustering\n",
    "\n",
    "\n",
    "**stats: statistical functions**\n",
    "\n",
    "Function | Description\n",
    "--- | ---\n",
    "getFETpval (a1,a2,b1,b2) | Fisher's exact test one tail\n",
    "getFET2pval (a1,a2,b1,b2) | Fisher's exact test two tails\n",
    "getPearson(X,Y) | Pearson correlation coefficient\n",
    "\n",
    "The `uqbinfpy` library is available at [GitHub]. \n",
    "\n",
    "[GitHub]: https://github.com/UQ-BIOL3014/"
   ]
  },
  {
   "cell_type": "markdown",
   "metadata": {},
   "source": [
    "---\n",
    "\n",
    "## Exercise 4 ##"
   ]
  },
  {
   "cell_type": "code",
   "execution_count": null,
   "metadata": {
    "collapsed": true
   },
   "outputs": [],
   "source": []
  },
  {
   "cell_type": "code",
   "execution_count": null,
   "metadata": {
    "collapsed": true
   },
   "outputs": [],
   "source": []
  }
 ],
 "metadata": {
  "kernelspec": {
   "display_name": "Python 2",
   "language": "python",
   "name": "python2"
  },
  "language_info": {
   "codemirror_mode": {
    "name": "ipython",
    "version": 2
   },
   "file_extension": ".py",
   "mimetype": "text/x-python",
   "name": "python",
   "nbconvert_exporter": "python",
   "pygments_lexer": "ipython2",
   "version": "2.7.8"
  }
 },
 "nbformat": 4,
 "nbformat_minor": 0
}
